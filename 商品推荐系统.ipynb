{
 "cells": [
  {
   "cell_type": "code",
   "execution_count": 48,
   "id": "aca2e9e5",
   "metadata": {},
   "outputs": [],
   "source": [
    "# 导入项目中所需的模块包\n",
    "import numpy as np \n",
    "import pandas as pd\n",
    "import matplotlib.pyplot as plt\n",
    "from sklearn.decomposition import TruncatedSVD"
   ]
  },
  {
   "cell_type": "code",
   "execution_count": 49,
   "id": "a8d6e6a5",
   "metadata": {},
   "outputs": [],
   "source": [
    "df = pd.read_csv(\"ratings_Electronics.csv\", names=['userID', 'productID', 'Rating', 'timestamp'])"
   ]
  },
  {
   "cell_type": "code",
   "execution_count": 50,
   "id": "75a7465e",
   "metadata": {},
   "outputs": [
    {
     "data": {
      "text/html": [
       "<div>\n",
       "<style scoped>\n",
       "    .dataframe tbody tr th:only-of-type {\n",
       "        vertical-align: middle;\n",
       "    }\n",
       "\n",
       "    .dataframe tbody tr th {\n",
       "        vertical-align: top;\n",
       "    }\n",
       "\n",
       "    .dataframe thead th {\n",
       "        text-align: right;\n",
       "    }\n",
       "</style>\n",
       "<table border=\"1\" class=\"dataframe\">\n",
       "  <thead>\n",
       "    <tr style=\"text-align: right;\">\n",
       "      <th></th>\n",
       "      <th>userID</th>\n",
       "      <th>productID</th>\n",
       "      <th>Rating</th>\n",
       "      <th>timestamp</th>\n",
       "    </tr>\n",
       "  </thead>\n",
       "  <tbody>\n",
       "    <tr>\n",
       "      <th>0</th>\n",
       "      <td>AKM1MP6P0OYPR</td>\n",
       "      <td>0132793040</td>\n",
       "      <td>5.0</td>\n",
       "      <td>1365811200</td>\n",
       "    </tr>\n",
       "    <tr>\n",
       "      <th>1</th>\n",
       "      <td>A2CX7LUOHB2NDG</td>\n",
       "      <td>0321732944</td>\n",
       "      <td>5.0</td>\n",
       "      <td>1341100800</td>\n",
       "    </tr>\n",
       "    <tr>\n",
       "      <th>2</th>\n",
       "      <td>A2NWSAGRHCP8N5</td>\n",
       "      <td>0439886341</td>\n",
       "      <td>1.0</td>\n",
       "      <td>1367193600</td>\n",
       "    </tr>\n",
       "    <tr>\n",
       "      <th>3</th>\n",
       "      <td>A2WNBOD3WNDNKT</td>\n",
       "      <td>0439886341</td>\n",
       "      <td>3.0</td>\n",
       "      <td>1374451200</td>\n",
       "    </tr>\n",
       "    <tr>\n",
       "      <th>4</th>\n",
       "      <td>A1GI0U4ZRJA8WN</td>\n",
       "      <td>0439886341</td>\n",
       "      <td>1.0</td>\n",
       "      <td>1334707200</td>\n",
       "    </tr>\n",
       "  </tbody>\n",
       "</table>\n",
       "</div>"
      ],
      "text/plain": [
       "           userID   productID  Rating   timestamp\n",
       "0   AKM1MP6P0OYPR  0132793040     5.0  1365811200\n",
       "1  A2CX7LUOHB2NDG  0321732944     5.0  1341100800\n",
       "2  A2NWSAGRHCP8N5  0439886341     1.0  1367193600\n",
       "3  A2WNBOD3WNDNKT  0439886341     3.0  1374451200\n",
       "4  A1GI0U4ZRJA8WN  0439886341     1.0  1334707200"
      ]
     },
     "execution_count": 50,
     "metadata": {},
     "output_type": "execute_result"
    }
   ],
   "source": [
    "# 查看数据\n",
    "df.head()"
   ]
  },
  {
   "cell_type": "code",
   "execution_count": 51,
   "id": "5f27159b",
   "metadata": {},
   "outputs": [
    {
     "name": "stdout",
     "output_type": "stream",
     "text": [
      "数据类型：\n",
      "userID        object\n",
      "productID     object\n",
      "Rating       float64\n",
      "timestamp      int64\n",
      "dtype: object \n",
      "\n",
      "数据大致信息：\n",
      "<class 'pandas.core.frame.DataFrame'>\n",
      "RangeIndex: 7824482 entries, 0 to 7824481\n",
      "Data columns (total 4 columns):\n",
      " #   Column     Dtype  \n",
      "---  ------     -----  \n",
      " 0   userID     object \n",
      " 1   productID  object \n",
      " 2   Rating     float64\n",
      " 3   timestamp  int64  \n",
      "dtypes: float64(1), int64(1), object(2)\n",
      "memory usage: 238.8+ MB\n",
      "None\n"
     ]
    }
   ],
   "source": [
    "# 查看数据类型\n",
    "print('数据类型：')\n",
    "print(df.dtypes,'\\n')\n",
    "print('数据大致信息：')\n",
    "print(df.info())"
   ]
  },
  {
   "cell_type": "markdown",
   "id": "f1a7c457",
   "metadata": {},
   "source": [
    "### 查看用户对商品的评分数据"
   ]
  },
  {
   "cell_type": "code",
   "execution_count": 52,
   "id": "8f82ec57",
   "metadata": {},
   "outputs": [
    {
     "data": {
      "text/html": [
       "<div>\n",
       "<style scoped>\n",
       "    .dataframe tbody tr th:only-of-type {\n",
       "        vertical-align: middle;\n",
       "    }\n",
       "\n",
       "    .dataframe tbody tr th {\n",
       "        vertical-align: top;\n",
       "    }\n",
       "\n",
       "    .dataframe thead th {\n",
       "        text-align: right;\n",
       "    }\n",
       "</style>\n",
       "<table border=\"1\" class=\"dataframe\">\n",
       "  <thead>\n",
       "    <tr style=\"text-align: right;\">\n",
       "      <th></th>\n",
       "      <th>Rating</th>\n",
       "      <th>timestamp</th>\n",
       "    </tr>\n",
       "  </thead>\n",
       "  <tbody>\n",
       "    <tr>\n",
       "      <th>count</th>\n",
       "      <td>7.824482e+06</td>\n",
       "      <td>7.824482e+06</td>\n",
       "    </tr>\n",
       "    <tr>\n",
       "      <th>mean</th>\n",
       "      <td>4.012337e+00</td>\n",
       "      <td>1.338178e+09</td>\n",
       "    </tr>\n",
       "    <tr>\n",
       "      <th>std</th>\n",
       "      <td>1.380910e+00</td>\n",
       "      <td>6.900426e+07</td>\n",
       "    </tr>\n",
       "    <tr>\n",
       "      <th>min</th>\n",
       "      <td>1.000000e+00</td>\n",
       "      <td>9.127296e+08</td>\n",
       "    </tr>\n",
       "    <tr>\n",
       "      <th>25%</th>\n",
       "      <td>3.000000e+00</td>\n",
       "      <td>1.315354e+09</td>\n",
       "    </tr>\n",
       "    <tr>\n",
       "      <th>50%</th>\n",
       "      <td>5.000000e+00</td>\n",
       "      <td>1.361059e+09</td>\n",
       "    </tr>\n",
       "    <tr>\n",
       "      <th>75%</th>\n",
       "      <td>5.000000e+00</td>\n",
       "      <td>1.386115e+09</td>\n",
       "    </tr>\n",
       "    <tr>\n",
       "      <th>max</th>\n",
       "      <td>5.000000e+00</td>\n",
       "      <td>1.406074e+09</td>\n",
       "    </tr>\n",
       "  </tbody>\n",
       "</table>\n",
       "</div>"
      ],
      "text/plain": [
       "             Rating     timestamp\n",
       "count  7.824482e+06  7.824482e+06\n",
       "mean   4.012337e+00  1.338178e+09\n",
       "std    1.380910e+00  6.900426e+07\n",
       "min    1.000000e+00  9.127296e+08\n",
       "25%    3.000000e+00  1.315354e+09\n",
       "50%    5.000000e+00  1.361059e+09\n",
       "75%    5.000000e+00  1.386115e+09\n",
       "max    5.000000e+00  1.406074e+09"
      ]
     },
     "execution_count": 52,
     "metadata": {},
     "output_type": "execute_result"
    }
   ],
   "source": [
    "df.describe()"
   ]
  },
  {
   "cell_type": "code",
   "execution_count": 53,
   "id": "fd2d184c",
   "metadata": {},
   "outputs": [
    {
     "name": "stdout",
     "output_type": "stream",
     "text": [
      "最低评分：1 分\n",
      "最高评分：5 分\n"
     ]
    }
   ],
   "source": [
    "# 输出最低、最高评分\n",
    "print('最低评分：%d 分' %(df.Rating.min()))\n",
    "print('最高评分：%d 分' %(df.Rating.max()))"
   ]
  },
  {
   "cell_type": "code",
   "execution_count": 54,
   "id": "ca18455d",
   "metadata": {},
   "outputs": [
    {
     "name": "stdout",
     "output_type": "stream",
     "text": [
      "数据统计：\n",
      "\n",
      "用户总数： 4201696\n",
      "商品总数： 476002\n",
      "评分总数： 7824482\n"
     ]
    }
   ],
   "source": [
    "print('数据统计：\\n')\n",
    "\n",
    "print('用户总数：',len(np.unique(df.userID)))\n",
    "print('商品总数：',len(np.unique(df.productID)))\n",
    "print('评分总数：',df.shape[0])"
   ]
  },
  {
   "cell_type": "markdown",
   "id": "1023cc24",
   "metadata": {},
   "source": [
    "### 查看各字段的缺失情况"
   ]
  },
  {
   "cell_type": "code",
   "execution_count": 55,
   "id": "405896a7",
   "metadata": {},
   "outputs": [
    {
     "name": "stdout",
     "output_type": "stream",
     "text": [
      "各字段的缺失值数量情况\n",
      "userID       0\n",
      "productID    0\n",
      "Rating       0\n",
      "timestamp    0\n",
      "dtype: int64\n"
     ]
    }
   ],
   "source": [
    "print('各字段的缺失值数量情况')\n",
    "print(df.isnull().sum())"
   ]
  },
  {
   "cell_type": "markdown",
   "id": "099d1b2b",
   "metadata": {},
   "source": [
    "### 删除冗余数据"
   ]
  },
  {
   "cell_type": "code",
   "execution_count": 56,
   "id": "287b774b",
   "metadata": {},
   "outputs": [
    {
     "name": "stdout",
     "output_type": "stream",
     "text": [
      "删除后的结果\n"
     ]
    },
    {
     "data": {
      "text/html": [
       "<div>\n",
       "<style scoped>\n",
       "    .dataframe tbody tr th:only-of-type {\n",
       "        vertical-align: middle;\n",
       "    }\n",
       "\n",
       "    .dataframe tbody tr th {\n",
       "        vertical-align: top;\n",
       "    }\n",
       "\n",
       "    .dataframe thead th {\n",
       "        text-align: right;\n",
       "    }\n",
       "</style>\n",
       "<table border=\"1\" class=\"dataframe\">\n",
       "  <thead>\n",
       "    <tr style=\"text-align: right;\">\n",
       "      <th></th>\n",
       "      <th>userID</th>\n",
       "      <th>productID</th>\n",
       "      <th>Rating</th>\n",
       "    </tr>\n",
       "  </thead>\n",
       "  <tbody>\n",
       "    <tr>\n",
       "      <th>0</th>\n",
       "      <td>AKM1MP6P0OYPR</td>\n",
       "      <td>0132793040</td>\n",
       "      <td>5.0</td>\n",
       "    </tr>\n",
       "    <tr>\n",
       "      <th>1</th>\n",
       "      <td>A2CX7LUOHB2NDG</td>\n",
       "      <td>0321732944</td>\n",
       "      <td>5.0</td>\n",
       "    </tr>\n",
       "    <tr>\n",
       "      <th>2</th>\n",
       "      <td>A2NWSAGRHCP8N5</td>\n",
       "      <td>0439886341</td>\n",
       "      <td>1.0</td>\n",
       "    </tr>\n",
       "    <tr>\n",
       "      <th>3</th>\n",
       "      <td>A2WNBOD3WNDNKT</td>\n",
       "      <td>0439886341</td>\n",
       "      <td>3.0</td>\n",
       "    </tr>\n",
       "    <tr>\n",
       "      <th>4</th>\n",
       "      <td>A1GI0U4ZRJA8WN</td>\n",
       "      <td>0439886341</td>\n",
       "      <td>1.0</td>\n",
       "    </tr>\n",
       "  </tbody>\n",
       "</table>\n",
       "</div>"
      ],
      "text/plain": [
       "           userID   productID  Rating\n",
       "0   AKM1MP6P0OYPR  0132793040     5.0\n",
       "1  A2CX7LUOHB2NDG  0321732944     5.0\n",
       "2  A2NWSAGRHCP8N5  0439886341     1.0\n",
       "3  A2WNBOD3WNDNKT  0439886341     3.0\n",
       "4  A1GI0U4ZRJA8WN  0439886341     1.0"
      ]
     },
     "execution_count": 56,
     "metadata": {},
     "output_type": "execute_result"
    }
   ],
   "source": [
    "# 删除时间戳\n",
    "df.drop(['timestamp'],axis=1, inplace=True)\n",
    "print('删除后的结果')\n",
    "df.head()"
   ]
  },
  {
   "cell_type": "markdown",
   "id": "a78ba0d6",
   "metadata": {},
   "source": [
    "# 数据可视化\n",
    "### 用户评分数"
   ]
  },
  {
   "cell_type": "code",
   "execution_count": 57,
   "id": "6db51756",
   "metadata": {},
   "outputs": [
    {
     "data": {
      "text/plain": [
       "userID\n",
       "A5JLAU2ARJ0BO     520\n",
       "ADLVFFE4VBT8      501\n",
       "A3OXHLG6DIBRW8    498\n",
       "A6FIAB28IS79      431\n",
       "A680RUE1FDO8B     406\n",
       "Name: Rating, dtype: int64"
      ]
     },
     "execution_count": 57,
     "metadata": {},
     "output_type": "execute_result"
    }
   ],
   "source": [
    "# 每个用户的评分数，降序排序\n",
    "\n",
    "user_rate_nums = df.groupby(by='userID')['Rating'].count().sort_values(ascending=False)\n",
    "user_rate_nums.head()"
   ]
  },
  {
   "cell_type": "code",
   "execution_count": 58,
   "id": "c7b82e28",
   "metadata": {},
   "outputs": [
    {
     "data": {
      "text/plain": [
       "count    4.201696e+06\n",
       "mean     1.862220e+00\n",
       "std      2.885110e+00\n",
       "min      1.000000e+00\n",
       "25%      1.000000e+00\n",
       "50%      1.000000e+00\n",
       "75%      2.000000e+00\n",
       "max      5.200000e+02\n",
       "Name: Rating, dtype: float64"
      ]
     },
     "execution_count": 58,
     "metadata": {},
     "output_type": "execute_result"
    }
   ],
   "source": [
    "user_rate_nums.describe()"
   ]
  },
  {
   "cell_type": "code",
   "execution_count": 59,
   "id": "05e41b5a",
   "metadata": {},
   "outputs": [
    {
     "name": "stdout",
     "output_type": "stream",
     "text": [
      "被50及以上人评分的商品数量有：1540个\n",
      "\n"
     ]
    }
   ],
   "source": [
    "print('被50及以上人评分的商品数量有：{}个\\n'.format(sum(user_rate_nums>=50)))"
   ]
  },
  {
   "cell_type": "markdown",
   "id": "9fdb2966",
   "metadata": {},
   "source": [
    "### 商品评分数"
   ]
  },
  {
   "cell_type": "code",
   "execution_count": 60,
   "id": "63baa4f0",
   "metadata": {},
   "outputs": [
    {
     "name": "stderr",
     "output_type": "stream",
     "text": [
      "D:\\Software\\Anaconda3\\lib\\site-packages\\matplotlib\\backends\\backend_agg.py:238: RuntimeWarning: Glyph 27599 missing from current font.\n",
      "  font.set_text(s, 0.0, flags=flags)\n",
      "D:\\Software\\Anaconda3\\lib\\site-packages\\matplotlib\\backends\\backend_agg.py:238: RuntimeWarning: Glyph 20010 missing from current font.\n",
      "  font.set_text(s, 0.0, flags=flags)\n",
      "D:\\Software\\Anaconda3\\lib\\site-packages\\matplotlib\\backends\\backend_agg.py:238: RuntimeWarning: Glyph 21830 missing from current font.\n",
      "  font.set_text(s, 0.0, flags=flags)\n",
      "D:\\Software\\Anaconda3\\lib\\site-packages\\matplotlib\\backends\\backend_agg.py:238: RuntimeWarning: Glyph 21697 missing from current font.\n",
      "  font.set_text(s, 0.0, flags=flags)\n",
      "D:\\Software\\Anaconda3\\lib\\site-packages\\matplotlib\\backends\\backend_agg.py:238: RuntimeWarning: Glyph 30340 missing from current font.\n",
      "  font.set_text(s, 0.0, flags=flags)\n",
      "D:\\Software\\Anaconda3\\lib\\site-packages\\matplotlib\\backends\\backend_agg.py:238: RuntimeWarning: Glyph 35780 missing from current font.\n",
      "  font.set_text(s, 0.0, flags=flags)\n",
      "D:\\Software\\Anaconda3\\lib\\site-packages\\matplotlib\\backends\\backend_agg.py:238: RuntimeWarning: Glyph 20998 missing from current font.\n",
      "  font.set_text(s, 0.0, flags=flags)\n",
      "D:\\Software\\Anaconda3\\lib\\site-packages\\matplotlib\\backends\\backend_agg.py:238: RuntimeWarning: Glyph 25968 missing from current font.\n",
      "  font.set_text(s, 0.0, flags=flags)\n",
      "D:\\Software\\Anaconda3\\lib\\site-packages\\matplotlib\\backends\\backend_agg.py:238: RuntimeWarning: Glyph 31181 missing from current font.\n",
      "  font.set_text(s, 0.0, flags=flags)\n",
      "D:\\Software\\Anaconda3\\lib\\site-packages\\matplotlib\\backends\\backend_agg.py:201: RuntimeWarning: Glyph 21830 missing from current font.\n",
      "  font.set_text(s, 0, flags=flags)\n",
      "D:\\Software\\Anaconda3\\lib\\site-packages\\matplotlib\\backends\\backend_agg.py:201: RuntimeWarning: Glyph 21697 missing from current font.\n",
      "  font.set_text(s, 0, flags=flags)\n",
      "D:\\Software\\Anaconda3\\lib\\site-packages\\matplotlib\\backends\\backend_agg.py:201: RuntimeWarning: Glyph 27599 missing from current font.\n",
      "  font.set_text(s, 0, flags=flags)\n",
      "D:\\Software\\Anaconda3\\lib\\site-packages\\matplotlib\\backends\\backend_agg.py:201: RuntimeWarning: Glyph 31181 missing from current font.\n",
      "  font.set_text(s, 0, flags=flags)\n",
      "D:\\Software\\Anaconda3\\lib\\site-packages\\matplotlib\\backends\\backend_agg.py:201: RuntimeWarning: Glyph 30340 missing from current font.\n",
      "  font.set_text(s, 0, flags=flags)\n",
      "D:\\Software\\Anaconda3\\lib\\site-packages\\matplotlib\\backends\\backend_agg.py:201: RuntimeWarning: Glyph 35780 missing from current font.\n",
      "  font.set_text(s, 0, flags=flags)\n",
      "D:\\Software\\Anaconda3\\lib\\site-packages\\matplotlib\\backends\\backend_agg.py:201: RuntimeWarning: Glyph 20998 missing from current font.\n",
      "  font.set_text(s, 0, flags=flags)\n",
      "D:\\Software\\Anaconda3\\lib\\site-packages\\matplotlib\\backends\\backend_agg.py:201: RuntimeWarning: Glyph 25968 missing from current font.\n",
      "  font.set_text(s, 0, flags=flags)\n",
      "D:\\Software\\Anaconda3\\lib\\site-packages\\matplotlib\\backends\\backend_agg.py:201: RuntimeWarning: Glyph 20010 missing from current font.\n",
      "  font.set_text(s, 0, flags=flags)\n"
     ]
    },
    {
     "data": {
      "image/png": "[encoded data removed]",
      "text/plain": [
       "<Figure size 576x288 with 1 Axes>"
      ]
     },
     "metadata": {
      "needs_background": "light"
     },
     "output_type": "display_data"
    }
   ],
   "source": [
    "# 筛选出被评分次数超过 50 的商品\n",
    "new_df = df.groupby('productID').filter(lambda x:x['Rating'].count()>=50)\n",
    "\n",
    "# 每个商品被评分的次数，降序排序\n",
    "product_rate_nums = new_df.groupby(by='productID')['Rating'].count().sort_values(ascending=False)\n",
    "\n",
    "fig = plt.figure(figsize = plt.figaspect(.5))\n",
    "plt.plot(product_rate_nums.values)\n",
    "plt.title('每个商品的评分数')\n",
    "plt.xlabel('商品')\n",
    "plt.ylabel('每种商品的评分数')\n",
    "plt.show()"
   ]
  },
  {
   "cell_type": "markdown",
   "id": "2d96baff",
   "metadata": {},
   "source": [
    "### 商品平均分"
   ]
  },
  {
   "cell_type": "code",
   "execution_count": 61,
   "id": "b29444c5",
   "metadata": {},
   "outputs": [
    {
     "data": {
      "text/plain": [
       "productID\n",
       "B002E6R7NG    4.980392\n",
       "B004I763AW    4.966667\n",
       "B003J9QQWU    4.964286\n",
       "B0043ZLFXE    4.955556\n",
       "B000TMFYBO    4.953125\n",
       "Name: Rating, dtype: float64"
      ]
     },
     "execution_count": 61,
     "metadata": {},
     "output_type": "execute_result"
    }
   ],
   "source": [
    "# 每个商品的平均分，降序排序\n",
    "new_df.groupby('productID')['Rating'].mean().sort_values(ascending=False).head()"
   ]
  },
  {
   "cell_type": "code",
   "execution_count": 62,
   "id": "481faf4a",
   "metadata": {},
   "outputs": [
    {
     "data": {
      "text/plain": [
       "productID\n",
       "B0074BW614    18244\n",
       "B00DR0PDNE    16454\n",
       "B007WTAJTO    14172\n",
       "B0019EHU8G    12285\n",
       "B006GWO5WK    12226\n",
       "Name: Rating, dtype: int64"
      ]
     },
     "execution_count": 62,
     "metadata": {},
     "output_type": "execute_result"
    }
   ],
   "source": [
    "# 每个商品的评分数量，降序排序\n",
    "new_df.groupby('productID')['Rating'].count().sort_values(ascending=False).head()"
   ]
  },
  {
   "cell_type": "code",
   "execution_count": 63,
   "id": "28d18aeb",
   "metadata": {},
   "outputs": [
    {
     "data": {
      "text/html": [
       "<div>\n",
       "<style scoped>\n",
       "    .dataframe tbody tr th:only-of-type {\n",
       "        vertical-align: middle;\n",
       "    }\n",
       "\n",
       "    .dataframe tbody tr th {\n",
       "        vertical-align: top;\n",
       "    }\n",
       "\n",
       "    .dataframe thead th {\n",
       "        text-align: right;\n",
       "    }\n",
       "</style>\n",
       "<table border=\"1\" class=\"dataframe\">\n",
       "  <thead>\n",
       "    <tr style=\"text-align: right;\">\n",
       "      <th></th>\n",
       "      <th>Rating</th>\n",
       "      <th>rating_counts</th>\n",
       "    </tr>\n",
       "    <tr>\n",
       "      <th>productID</th>\n",
       "      <th></th>\n",
       "      <th></th>\n",
       "    </tr>\n",
       "  </thead>\n",
       "  <tbody>\n",
       "    <tr>\n",
       "      <th>B002E6R7NG</th>\n",
       "      <td>4.980392</td>\n",
       "      <td>51</td>\n",
       "    </tr>\n",
       "    <tr>\n",
       "      <th>B004I763AW</th>\n",
       "      <td>4.966667</td>\n",
       "      <td>60</td>\n",
       "    </tr>\n",
       "    <tr>\n",
       "      <th>B003J9QQWU</th>\n",
       "      <td>4.964286</td>\n",
       "      <td>56</td>\n",
       "    </tr>\n",
       "    <tr>\n",
       "      <th>B0043ZLFXE</th>\n",
       "      <td>4.955556</td>\n",
       "      <td>90</td>\n",
       "    </tr>\n",
       "    <tr>\n",
       "      <th>B000TMFYBO</th>\n",
       "      <td>4.953125</td>\n",
       "      <td>64</td>\n",
       "    </tr>\n",
       "  </tbody>\n",
       "</table>\n",
       "</div>"
      ],
      "text/plain": [
       "              Rating  rating_counts\n",
       "productID                          \n",
       "B002E6R7NG  4.980392             51\n",
       "B004I763AW  4.966667             60\n",
       "B003J9QQWU  4.964286             56\n",
       "B0043ZLFXE  4.955556             90\n",
       "B000TMFYBO  4.953125             64"
      ]
     },
     "execution_count": 63,
     "metadata": {},
     "output_type": "execute_result"
    }
   ],
   "source": [
    "# 平均分 与 评分数量\n",
    "ratings_mean_count = pd.DataFrame(new_df.groupby('productID')['Rating'].mean().sort_values(ascending=False))\n",
    "ratings_mean_count['rating_counts'] = pd.DataFrame(new_df.groupby('productID')['Rating'].count())\n",
    "ratings_mean_count.head()"
   ]
  },
  {
   "cell_type": "markdown",
   "id": "425447cd",
   "metadata": {},
   "source": [
    "### 不同评分的用户数量分布"
   ]
  },
  {
   "cell_type": "code",
   "execution_count": 64,
   "id": "f4f74309",
   "metadata": {},
   "outputs": [
    {
     "data": {
      "text/plain": [
       "<AxesSubplot:>"
      ]
     },
     "execution_count": 64,
     "metadata": {},
     "output_type": "execute_result"
    },
    {
     "data": {
      "image/png": "[encoded data removed]",
      "text/plain": [
       "<Figure size 576x432 with 1 Axes>"
      ]
     },
     "metadata": {
      "needs_background": "light"
     },
     "output_type": "display_data"
    }
   ],
   "source": [
    "plt.figure(figsize=(8,6))\n",
    "ratings_mean_count['Rating'].hist(bins=50)"
   ]
  },
  {
   "cell_type": "markdown",
   "id": "04b5fa50",
   "metadata": {},
   "source": [
    "# 利用基于矩阵分解的协同过滤算法实现商品退推荐系统\n",
    "### 创建商品和用户的关系举证"
   ]
  },
  {
   "cell_type": "code",
   "execution_count": 67,
   "id": "d227861a",
   "metadata": {},
   "outputs": [
    {
     "name": "stdout",
     "output_type": "stream",
     "text": [
      "productID              0972683275  1400501466  1400501520  1400501776  \\\n",
      "userID                                                                  \n",
      "A01852072Z7B68UHLI5UG           0           0           0           0   \n",
      "A0266076X6KPZ6CCHGVS            0           0           0           0   \n",
      "A0293130VTX2ZXA70JQS            5           0           0           0   \n",
      "A030530627MK66BD8V4LN           4           0           0           0   \n",
      "A0571176384K8RBNKGF8O           0           0           0           0   \n",
      "\n",
      "productID              1400532620  1400532655  140053271X  1400532736  \\\n",
      "userID                                                                  \n",
      "A01852072Z7B68UHLI5UG           0           0           0           0   \n",
      "A0266076X6KPZ6CCHGVS            0           0           0           0   \n",
      "A0293130VTX2ZXA70JQS            0           0           0           0   \n",
      "A030530627MK66BD8V4LN           0           0           0           0   \n",
      "A0571176384K8RBNKGF8O           0           0           0           0   \n",
      "\n",
      "productID              1400599997  1400698987  ...  B00000JFMK  B00000JHWX  \\\n",
      "userID                                         ...                           \n",
      "A01852072Z7B68UHLI5UG           0           0  ...           0           0   \n",
      "A0266076X6KPZ6CCHGVS            0           0  ...           0           0   \n",
      "A0293130VTX2ZXA70JQS            0           0  ...           0           0   \n",
      "A030530627MK66BD8V4LN           0           0  ...           0           0   \n",
      "A0571176384K8RBNKGF8O           0           0  ...           0           0   \n",
      "\n",
      "productID              B00000JI4F  B00000JII6  B00000JMUG  B00000JPPI  \\\n",
      "userID                                                                  \n",
      "A01852072Z7B68UHLI5UG           0           0           0           0   \n",
      "A0266076X6KPZ6CCHGVS            0           0           0           0   \n",
      "A0293130VTX2ZXA70JQS            0           0           0           0   \n",
      "A030530627MK66BD8V4LN           0           0           0           0   \n",
      "A0571176384K8RBNKGF8O           0           0           0           0   \n",
      "\n",
      "productID              B00000JSGF  B00000JYLO  B00000JYWQ  B00000K135  \n",
      "userID                                                                 \n",
      "A01852072Z7B68UHLI5UG           0           0           0           0  \n",
      "A0266076X6KPZ6CCHGVS            0           0           0           0  \n",
      "A0293130VTX2ZXA70JQS            0           0           0           0  \n",
      "A030530627MK66BD8V4LN           0           0           0           0  \n",
      "A0571176384K8RBNKGF8O           0           0           0           0  \n",
      "\n",
      "[5 rows x 76 columns]\n"
     ]
    }
   ],
   "source": [
    "new_df1=new_df.head(10000)\n",
    "ratings_matrix = new_df1.pivot_table(values='Rating', index='userID', columns='productID', fill_value=0)\n",
    "print(ratings_matrix.head())    # 查看矩阵"
   ]
  },
  {
   "cell_type": "code",
   "execution_count": 68,
   "id": "582c657d",
   "metadata": {},
   "outputs": [
    {
     "name": "stdout",
     "output_type": "stream",
     "text": [
      "userID      A01852072Z7B68UHLI5UG  A0266076X6KPZ6CCHGVS  A0293130VTX2ZXA70JQS  \\\n",
      "productID                                                                       \n",
      "0972683275                      0                     0                     5   \n",
      "1400501466                      0                     0                     0   \n",
      "1400501520                      0                     0                     0   \n",
      "1400501776                      0                     0                     0   \n",
      "1400532620                      0                     0                     0   \n",
      "\n",
      "userID      A030530627MK66BD8V4LN  A0571176384K8RBNKGF8O  \\\n",
      "productID                                                  \n",
      "0972683275                      4                      0   \n",
      "1400501466                      0                      0   \n",
      "1400501520                      0                      0   \n",
      "1400501776                      0                      0   \n",
      "1400532620                      0                      0   \n",
      "\n",
      "userID      A0590501PZ7HOWJKBGQ4  A0641581307AKT5MAOU0Q  \\\n",
      "productID                                                 \n",
      "0972683275                     0                      0   \n",
      "1400501466                     0                      0   \n",
      "1400501520                     0                      0   \n",
      "1400501776                     0                      0   \n",
      "1400532620                     0                      0   \n",
      "\n",
      "userID      A076219533YHEV2LJO988  A0821988FXKFYX53V4QG  \\\n",
      "productID                                                 \n",
      "0972683275                      0                     0   \n",
      "1400501466                      0                     0   \n",
      "1400501520                      0                     0   \n",
      "1400501776                      0                     0   \n",
      "1400532620                      0                     0   \n",
      "\n",
      "userID      A099626739FNCRNHIKBCG  ...  AZWOPBY75SGAM  AZX0ZDVAFMN78  \\\n",
      "productID                          ...                                 \n",
      "0972683275                      0  ...              0              0   \n",
      "1400501466                      0  ...              0              0   \n",
      "1400501520                      3  ...              0              0   \n",
      "1400501776                      0  ...              0              0   \n",
      "1400532620                      0  ...              0              0   \n",
      "\n",
      "userID      AZX5LAN9JEAFF  AZX7I110AF0W2  AZXKUK895VGSM  AZXP46IB63PU8  \\\n",
      "productID                                                                \n",
      "0972683275              0              0              0              0   \n",
      "1400501466              0              0              0              0   \n",
      "1400501520              0              0              0              0   \n",
      "1400501776              0              0              0              0   \n",
      "1400532620              0              0              0              0   \n",
      "\n",
      "userID      AZYTSU42BZ7TP  AZZGJ2KMWB7R  AZZMV5VT9W7Y8  AZZST8OYL5P4Q  \n",
      "productID                                                              \n",
      "0972683275              0             0              0              0  \n",
      "1400501466              0             0              0              0  \n",
      "1400501520              0             0              0              0  \n",
      "1400501776              0             0              1              0  \n",
      "1400532620              0             0              0              0  \n",
      "\n",
      "[5 rows x 9832 columns]\n"
     ]
    }
   ],
   "source": [
    "X = ratings_matrix.T    # 矩阵转置\n",
    "print(X.head())         # 查看转置后的矩阵"
   ]
  },
  {
   "cell_type": "markdown",
   "id": "21a9eb6f",
   "metadata": {},
   "source": [
    "### 分解矩阵\n",
    "\n",
    "构建 SVD 模型，将特征数目组合为 10 个重要特征"
   ]
  },
  {
   "cell_type": "code",
   "execution_count": 69,
   "id": "86eb09fe",
   "metadata": {},
   "outputs": [
    {
     "data": {
      "text/html": [
       "<div>\n",
       "<style scoped>\n",
       "    .dataframe tbody tr th:only-of-type {\n",
       "        vertical-align: middle;\n",
       "    }\n",
       "\n",
       "    .dataframe tbody tr th {\n",
       "        vertical-align: top;\n",
       "    }\n",
       "\n",
       "    .dataframe thead th {\n",
       "        text-align: right;\n",
       "    }\n",
       "</style>\n",
       "<table border=\"1\" class=\"dataframe\">\n",
       "  <thead>\n",
       "    <tr style=\"text-align: right;\">\n",
       "      <th></th>\n",
       "      <th>0</th>\n",
       "      <th>1</th>\n",
       "      <th>2</th>\n",
       "      <th>3</th>\n",
       "      <th>4</th>\n",
       "      <th>5</th>\n",
       "      <th>6</th>\n",
       "      <th>7</th>\n",
       "      <th>8</th>\n",
       "      <th>9</th>\n",
       "    </tr>\n",
       "  </thead>\n",
       "  <tbody>\n",
       "    <tr>\n",
       "      <th>0</th>\n",
       "      <td>1.481045e+02</td>\n",
       "      <td>-0.154596</td>\n",
       "      <td>0.024543</td>\n",
       "      <td>0.000151</td>\n",
       "      <td>-0.134140</td>\n",
       "      <td>0.000046</td>\n",
       "      <td>0.046183</td>\n",
       "      <td>-0.000118</td>\n",
       "      <td>0.001403</td>\n",
       "      <td>-0.084793</td>\n",
       "    </tr>\n",
       "    <tr>\n",
       "      <th>1</th>\n",
       "      <td>6.744942e-04</td>\n",
       "      <td>1.283323</td>\n",
       "      <td>1.480263</td>\n",
       "      <td>0.197338</td>\n",
       "      <td>0.000622</td>\n",
       "      <td>-0.001842</td>\n",
       "      <td>0.005002</td>\n",
       "      <td>-0.017555</td>\n",
       "      <td>61.435785</td>\n",
       "      <td>-0.037695</td>\n",
       "    </tr>\n",
       "    <tr>\n",
       "      <th>2</th>\n",
       "      <td>5.219793e-05</td>\n",
       "      <td>0.098017</td>\n",
       "      <td>0.313583</td>\n",
       "      <td>0.005702</td>\n",
       "      <td>0.005334</td>\n",
       "      <td>-0.009651</td>\n",
       "      <td>0.030832</td>\n",
       "      <td>0.023626</td>\n",
       "      <td>1.541070</td>\n",
       "      <td>-0.352615</td>\n",
       "    </tr>\n",
       "    <tr>\n",
       "      <th>3</th>\n",
       "      <td>5.227560e-04</td>\n",
       "      <td>0.754430</td>\n",
       "      <td>0.519839</td>\n",
       "      <td>0.028574</td>\n",
       "      <td>0.014244</td>\n",
       "      <td>-0.063550</td>\n",
       "      <td>0.034670</td>\n",
       "      <td>-0.276025</td>\n",
       "      <td>3.762409</td>\n",
       "      <td>-0.106569</td>\n",
       "    </tr>\n",
       "    <tr>\n",
       "      <th>4</th>\n",
       "      <td>4.176111e-04</td>\n",
       "      <td>0.796014</td>\n",
       "      <td>1.071283</td>\n",
       "      <td>-0.010213</td>\n",
       "      <td>0.016290</td>\n",
       "      <td>0.099669</td>\n",
       "      <td>0.057787</td>\n",
       "      <td>0.018992</td>\n",
       "      <td>0.324709</td>\n",
       "      <td>-1.227223</td>\n",
       "    </tr>\n",
       "    <tr>\n",
       "      <th>...</th>\n",
       "      <td>...</td>\n",
       "      <td>...</td>\n",
       "      <td>...</td>\n",
       "      <td>...</td>\n",
       "      <td>...</td>\n",
       "      <td>...</td>\n",
       "      <td>...</td>\n",
       "      <td>...</td>\n",
       "      <td>...</td>\n",
       "      <td>...</td>\n",
       "    </tr>\n",
       "    <tr>\n",
       "      <th>71</th>\n",
       "      <td>9.845802e-07</td>\n",
       "      <td>0.000031</td>\n",
       "      <td>-0.000109</td>\n",
       "      <td>0.000021</td>\n",
       "      <td>-0.000154</td>\n",
       "      <td>0.000927</td>\n",
       "      <td>-0.000328</td>\n",
       "      <td>0.000605</td>\n",
       "      <td>0.000759</td>\n",
       "      <td>0.014208</td>\n",
       "    </tr>\n",
       "    <tr>\n",
       "      <th>72</th>\n",
       "      <td>-3.854022e-05</td>\n",
       "      <td>-0.011602</td>\n",
       "      <td>0.011094</td>\n",
       "      <td>-0.013239</td>\n",
       "      <td>0.323775</td>\n",
       "      <td>0.096299</td>\n",
       "      <td>1.063266</td>\n",
       "      <td>-0.017927</td>\n",
       "      <td>-0.311094</td>\n",
       "      <td>-1.296361</td>\n",
       "    </tr>\n",
       "    <tr>\n",
       "      <th>73</th>\n",
       "      <td>1.808079e-04</td>\n",
       "      <td>0.002219</td>\n",
       "      <td>0.000194</td>\n",
       "      <td>0.000501</td>\n",
       "      <td>0.001470</td>\n",
       "      <td>0.000631</td>\n",
       "      <td>0.002194</td>\n",
       "      <td>0.012294</td>\n",
       "      <td>0.035888</td>\n",
       "      <td>-0.018235</td>\n",
       "    </tr>\n",
       "    <tr>\n",
       "      <th>74</th>\n",
       "      <td>9.651395e-06</td>\n",
       "      <td>-0.001024</td>\n",
       "      <td>-0.000777</td>\n",
       "      <td>-0.000059</td>\n",
       "      <td>-0.004206</td>\n",
       "      <td>0.001915</td>\n",
       "      <td>0.001112</td>\n",
       "      <td>0.009247</td>\n",
       "      <td>-0.063084</td>\n",
       "      <td>0.256885</td>\n",
       "    </tr>\n",
       "    <tr>\n",
       "      <th>75</th>\n",
       "      <td>8.976680e-07</td>\n",
       "      <td>-0.001465</td>\n",
       "      <td>0.000044</td>\n",
       "      <td>0.000541</td>\n",
       "      <td>-0.000348</td>\n",
       "      <td>-0.000784</td>\n",
       "      <td>-0.000334</td>\n",
       "      <td>-0.003648</td>\n",
       "      <td>-0.033828</td>\n",
       "      <td>0.035087</td>\n",
       "    </tr>\n",
       "  </tbody>\n",
       "</table>\n",
       "<p>76 rows × 10 columns</p>\n",
       "</div>"
      ],
      "text/plain": [
       "               0         1         2         3         4         5         6  \\\n",
       "0   1.481045e+02 -0.154596  0.024543  0.000151 -0.134140  0.000046  0.046183   \n",
       "1   6.744942e-04  1.283323  1.480263  0.197338  0.000622 -0.001842  0.005002   \n",
       "2   5.219793e-05  0.098017  0.313583  0.005702  0.005334 -0.009651  0.030832   \n",
       "3   5.227560e-04  0.754430  0.519839  0.028574  0.014244 -0.063550  0.034670   \n",
       "4   4.176111e-04  0.796014  1.071283 -0.010213  0.016290  0.099669  0.057787   \n",
       "..           ...       ...       ...       ...       ...       ...       ...   \n",
       "71  9.845802e-07  0.000031 -0.000109  0.000021 -0.000154  0.000927 -0.000328   \n",
       "72 -3.854022e-05 -0.011602  0.011094 -0.013239  0.323775  0.096299  1.063266   \n",
       "73  1.808079e-04  0.002219  0.000194  0.000501  0.001470  0.000631  0.002194   \n",
       "74  9.651395e-06 -0.001024 -0.000777 -0.000059 -0.004206  0.001915  0.001112   \n",
       "75  8.976680e-07 -0.001465  0.000044  0.000541 -0.000348 -0.000784 -0.000334   \n",
       "\n",
       "           7          8         9  \n",
       "0  -0.000118   0.001403 -0.084793  \n",
       "1  -0.017555  61.435785 -0.037695  \n",
       "2   0.023626   1.541070 -0.352615  \n",
       "3  -0.276025   3.762409 -0.106569  \n",
       "4   0.018992   0.324709 -1.227223  \n",
       "..       ...        ...       ...  \n",
       "71  0.000605   0.000759  0.014208  \n",
       "72 -0.017927  -0.311094 -1.296361  \n",
       "73  0.012294   0.035888 -0.018235  \n",
       "74  0.009247  -0.063084  0.256885  \n",
       "75 -0.003648  -0.033828  0.035087  \n",
       "\n",
       "[76 rows x 10 columns]"
      ]
     },
     "execution_count": 69,
     "metadata": {},
     "output_type": "execute_result"
    }
   ],
   "source": [
    "SVD = TruncatedSVD(n_components=10)\n",
    "decomposed_matrix = SVD.fit_transform(X)    #对矩阵进行转化\n",
    "pd.DataFrame(decomposed_matrix)             #查看转化后的矩阵"
   ]
  },
  {
   "cell_type": "markdown",
   "id": "262b5b4e",
   "metadata": {},
   "source": [
    "**构建相关系数矩阵，计算商品间的相关系数**"
   ]
  },
  {
   "cell_type": "code",
   "execution_count": 70,
   "id": "0544634e",
   "metadata": {},
   "outputs": [
    {
     "name": "stdout",
     "output_type": "stream",
     "text": [
      "          0         1         2         3         4         5         6   \\\n",
      "0   1.000000 -0.116671 -0.113828 -0.136679 -0.066424 -0.087238 -0.128299   \n",
      "1  -0.116671  1.000000  0.954889  0.973420  0.144950 -0.085613 -0.120860   \n",
      "2  -0.113828  0.954889  1.000000  0.964503  0.418905 -0.070027  0.080440   \n",
      "3  -0.136679  0.973420  0.964503  1.000000  0.302119  0.070467  0.015842   \n",
      "4  -0.066424  0.144950  0.418905  0.302119  1.000000  0.295182  0.624307   \n",
      "..       ...       ...       ...       ...       ...       ...       ...   \n",
      "71 -0.126256 -0.073284 -0.319564 -0.133044 -0.787511 -0.098039 -0.154733   \n",
      "72  0.009887 -0.179127  0.014659 -0.147756  0.504452  0.001132  0.019002   \n",
      "73 -0.091923  0.836729  0.906821  0.809716  0.438206 -0.031328 -0.111262   \n",
      "74 -0.082379 -0.347084 -0.562804 -0.391919 -0.773818 -0.067121 -0.094867   \n",
      "75  0.009805 -0.723260 -0.855985 -0.733479 -0.619402 -0.015983  0.018223   \n",
      "\n",
      "          7         8         9   ...        66        67        68        69  \\\n",
      "0  -0.184682 -0.058356 -0.218890  ... -0.067109 -0.070786 -0.110395  0.036912   \n",
      "1   0.738438  0.862472  0.949423  ...  0.983310 -0.406251 -0.116462 -0.839668   \n",
      "2   0.829044  0.937153  0.891882  ...  0.978533 -0.614146 -0.120375 -0.924548   \n",
      "3   0.805370  0.886746  0.956175  ...  0.962769 -0.442254 -0.154677 -0.823749   \n",
      "4   0.509985  0.522251  0.120580  ...  0.266133 -0.764611 -0.008320 -0.481071   \n",
      "..       ...       ...       ...  ...       ...       ...       ...       ...   \n",
      "71 -0.126240 -0.540207  0.110917  ... -0.229761  0.930406 -0.052933  0.564855   \n",
      "72 -0.165091  0.221898 -0.286891  ... -0.089832 -0.636190  0.068076 -0.251903   \n",
      "73  0.591963  0.949823  0.690650  ...  0.906233 -0.793068 -0.081282 -0.992623   \n",
      "74 -0.312206 -0.749606 -0.150376  ... -0.491963  0.989012 -0.074382  0.762813   \n",
      "75 -0.553617 -0.955393 -0.550425  ... -0.824055  0.922498 -0.006725  0.967892   \n",
      "\n",
      "          70        71        72        73        74        75  \n",
      "0   0.136247 -0.126256  0.009887 -0.091923 -0.082379  0.009805  \n",
      "1  -0.322339 -0.073284 -0.179127  0.836729 -0.347084 -0.723260  \n",
      "2  -0.075664 -0.319564  0.014659  0.906821 -0.562804 -0.855985  \n",
      "3  -0.259292 -0.133044 -0.147756  0.809716 -0.391919 -0.733479  \n",
      "4   0.677238 -0.787511  0.504452  0.438206 -0.773818 -0.619402  \n",
      "..       ...       ...       ...       ...       ...       ...  \n",
      "71 -0.913830  1.000000 -0.806926 -0.524965  0.958520  0.731589  \n",
      "72  0.856078 -0.806926  1.000000  0.222401 -0.694881 -0.417893  \n",
      "73  0.159722 -0.524965  0.222401  1.000000 -0.727688 -0.951123  \n",
      "74 -0.771919  0.958520 -0.694881 -0.727688  1.000000  0.892009  \n",
      "75 -0.408209  0.731589 -0.417893 -0.951123  0.892009  1.000000  \n",
      "\n",
      "[76 rows x 76 columns]\n"
     ]
    }
   ],
   "source": [
    "correlation_matrix = np.corrcoef(decomposed_matrix)\n",
    "print(pd.DataFrame(correlation_matrix))"
   ]
  },
  {
   "cell_type": "markdown",
   "id": "54349f84",
   "metadata": {},
   "source": [
    "### 基于物品相似度实现推荐\n",
    "**确定商品的唯一性**"
   ]
  },
  {
   "cell_type": "code",
   "execution_count": 71,
   "id": "0989a14b",
   "metadata": {},
   "outputs": [
    {
     "name": "stdout",
     "output_type": "stream",
     "text": [
      "20\n"
     ]
    }
   ],
   "source": [
    "i = X.index[20]    # 假设用户喜欢第 20 个商品\n",
    "product_names = list(X.index)\n",
    "product_ID = product_names.index(i)\n",
    "print(product_ID)"
   ]
  },
  {
   "cell_type": "markdown",
   "id": "87560f57",
   "metadata": {},
   "source": [
    "**查看该商品在相似度矩阵中相似的商品**"
   ]
  },
  {
   "cell_type": "code",
   "execution_count": 74,
   "id": "ff367cd1",
   "metadata": {},
   "outputs": [
    {
     "name": "stdout",
     "output_type": "stream",
     "text": [
      "76\n"
     ]
    }
   ],
   "source": [
    "correlation_product_ID = correlation_matrix[product_ID]\n",
    "print(correlation_product_ID.shape[0])    # 相似商品数量"
   ]
  },
  {
   "cell_type": "code",
   "execution_count": 75,
   "id": "991f11e0",
   "metadata": {},
   "outputs": [
    {
     "data": {
      "text/html": [
       "<div>\n",
       "<style scoped>\n",
       "    .dataframe tbody tr th:only-of-type {\n",
       "        vertical-align: middle;\n",
       "    }\n",
       "\n",
       "    .dataframe tbody tr th {\n",
       "        vertical-align: top;\n",
       "    }\n",
       "\n",
       "    .dataframe thead th {\n",
       "        text-align: right;\n",
       "    }\n",
       "</style>\n",
       "<table border=\"1\" class=\"dataframe\">\n",
       "  <thead>\n",
       "    <tr style=\"text-align: right;\">\n",
       "      <th></th>\n",
       "      <th>0</th>\n",
       "    </tr>\n",
       "  </thead>\n",
       "  <tbody>\n",
       "    <tr>\n",
       "      <th>0</th>\n",
       "      <td>3744295508</td>\n",
       "    </tr>\n",
       "    <tr>\n",
       "      <th>1</th>\n",
       "      <td>8862935293</td>\n",
       "    </tr>\n",
       "    <tr>\n",
       "      <th>2</th>\n",
       "      <td>9625993428</td>\n",
       "    </tr>\n",
       "    <tr>\n",
       "      <th>3</th>\n",
       "      <td>B00000J05A</td>\n",
       "    </tr>\n",
       "    <tr>\n",
       "      <th>4</th>\n",
       "      <td>B00000J1EP</td>\n",
       "    </tr>\n",
       "  </tbody>\n",
       "</table>\n",
       "</div>"
      ],
      "text/plain": [
       "            0\n",
       "0  3744295508\n",
       "1  8862935293\n",
       "2  9625993428\n",
       "3  B00000J05A\n",
       "4  B00000J1EP"
      ]
     },
     "execution_count": 75,
     "metadata": {},
     "output_type": "execute_result"
    }
   ],
   "source": [
    "# 选出相关系数大于 0.8 的商品\n",
    "Recommend = list(X.index[correlation_product_ID > 0.8])\n",
    "# 去除商品自身\n",
    "Recommend.remove(i)\n",
    "# 将相关系数排名前 5 的商品推荐给喜欢该商品的用户\n",
    "pd.DataFrame(Recommend[0:5])    # 最终展示"
   ]
  }
 ],
 "metadata": {
  "kernelspec": {
   "display_name": "Python 3",
   "language": "python",
   "name": "python3"
  },
  "language_info": {
   "codemirror_mode": {
    "name": "ipython",
    "version": 3
   },
   "file_extension": ".py",
   "mimetype": "text/x-python",
   "name": "python",
   "nbconvert_exporter": "python",
   "pygments_lexer": "ipython3",
   "version": "3.8.8"
  }
 },
 "nbformat": 4,
 "nbformat_minor": 5
}
